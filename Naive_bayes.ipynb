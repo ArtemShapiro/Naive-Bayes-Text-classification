{
 "cells": [
  {
   "cell_type": "code",
   "execution_count": 1,
   "metadata": {},
   "outputs": [],
   "source": [
    "from collections import defaultdict\n",
    "\n",
    "import collections\n",
    "import numpy as np\n",
    "import operator"
   ]
  },
  {
   "cell_type": "code",
   "execution_count": 2,
   "metadata": {},
   "outputs": [],
   "source": [
    "DATA_PATH = './data.csv'"
   ]
  },
  {
   "cell_type": "code",
   "execution_count": 37,
   "metadata": {},
   "outputs": [],
   "source": [
    "def load_dataset():\n",
    "    data = np.genfromtxt(DATA_PATH, dtype=str, delimiter=',')\n",
    "    print(data.shape)\n",
    "    test  = []\n",
    "    train = []\n",
    "    for clazz in np.unique(data[:,1]):\n",
    "        data_class = data[data[:,1] == clazz]\n",
    "        count = int(data_class.shape[0]*.8)\n",
    "    \n",
    "        train.append(data_class[:count])\n",
    "        test.append(data_class[count:])\n",
    "        \n",
    "    return np.concatenate(train), np.concatenate(test)"
   ]
  },
  {
   "cell_type": "code",
   "execution_count": 38,
   "metadata": {},
   "outputs": [
    {
     "name": "stdout",
     "output_type": "stream",
     "text": [
      "(1118, 2)\n",
      "(304, 2)\n",
      "(590, 2)\n",
      "(894, 2) (224, 2)\n"
     ]
    }
   ],
   "source": [
    "train_samples, test_samples = load_dataset()\n",
    "print(train_samples.shape, test_samples.shape)"
   ]
  },
  {
   "cell_type": "code",
   "execution_count": 54,
   "metadata": {},
   "outputs": [],
   "source": [
    "class NaiveBayes:\n",
    "    def __init__(self):\n",
    "        self.container = dict()\n",
    "        self.prior = defaultdict(int)\n",
    "    \n",
    "        self.unique_words = []\n",
    "    \n",
    "    def initialize_dict_labels(self, labels):\n",
    "        container = dict()\n",
    "        for label in np.unique(labels):\n",
    "            container[label] = defaultdict(int)\n",
    "        \n",
    "        return container\n",
    "            \n",
    "    def count_priors(self):\n",
    "        for label in self.data[:,1]:\n",
    "            self.prior[label] += 1\n",
    "\n",
    "        shape = self.data.shape[0]\n",
    "        for key, value in self.prior.items():\n",
    "            self.prior[key] = value/shape\n",
    "    \n",
    "    def __fit_tfidf(self):\n",
    "        self.idf_container = self.initialize_dict_labels(self.data[:,1])\n",
    "\n",
    "        for clazz, values in self.container.items():\n",
    "            for word, freq in values.items():\n",
    "                for doc in self.data[:, 0]:\n",
    "                    if word in doc:\n",
    "                        self.idf_container[clazz][word] += 1\n",
    "                \n",
    "    def fit(self, data, tfidf=False):\n",
    "        self.data = np.asarray(data)\n",
    "        self.container = self.initialize_dict_labels(self.data[:,1])\n",
    "\n",
    "        for sample in self.data:\n",
    "            words = sample[0].lower().split(' ')\n",
    "            for word in words:\n",
    "                if (word not in self.unique_words): self.unique_words.append(word)\n",
    "                self.container[sample[1]][word] +=1   \n",
    "        \n",
    "        if tfidf:\n",
    "            self.__fit_tfidf()\n",
    "            \n",
    "        self.count_priors()\n",
    "        self.container['0'][''] = 0\n",
    "        self.container['1'][''] = 0\n",
    "        \n",
    "    def __predict_tfidf(self, document, logarifmic=True):\n",
    "        words = document[0].lower().split(' ')\n",
    "        class_predictions = dict()\n",
    "\n",
    "        for clazz, values in self.container.items():\n",
    "            total_count = sum(values.values())\n",
    "            container = []\n",
    "            \n",
    "            for word in words:\n",
    "                if word == '':\n",
    "                    pass\n",
    "                else: \n",
    "                    P = (1 + values[word])/(total_count + len(self.unique_words))*\\\n",
    "                         np.log(total_count/(self.idf_container[clazz][word] + 1))\n",
    "                    container.append(P)\n",
    "            \n",
    "            if logarifmic:\n",
    "                class_predictions[clazz] = np.log(self.prior[clazz])\n",
    "                for value in container:\n",
    "                    class_predictions[clazz] += np.log(value)\n",
    "\n",
    "            else:\n",
    "                class_predictions[clazz] = self.prior[clazz]\n",
    "                for value in container:\n",
    "                    class_predictions[clazz] *= value\n",
    "                    \n",
    "        return class_predictions\n",
    "\n",
    "    \n",
    "    def _predict(self, document, logarifmic=True):\n",
    "        words = document[0].lower().split(' ')\n",
    "        class_predictions = dict()\n",
    "\n",
    "        for clazz, values in self.container.items():\n",
    "            total_count = sum(values.values())\n",
    "            container = []\n",
    "            \n",
    "            for word in words:\n",
    "                if word == '':\n",
    "                    pass\n",
    "                else: \n",
    "                    if word in values.keys():\n",
    "                        value = values[word]\n",
    "                    else:\n",
    "                        value = 0\n",
    "\n",
    "                    P = (value + 1)/(total_count + len(self.unique_words))\n",
    "                    container.append(P)\n",
    "            \n",
    "            if logarifmic:\n",
    "                class_predictions[clazz] = np.log(self.prior[clazz])\n",
    "                for value in container:\n",
    "                    class_predictions[clazz] += np.log(value)\n",
    "\n",
    "            else:\n",
    "                class_predictions[clazz] = self.prior[clazz]\n",
    "                for value in container:\n",
    "                    class_predictions[clazz] *= value\n",
    "                    \n",
    "        return class_predictions\n",
    "\n",
    "    def predict(self, samples, tfidf=False):\n",
    "        container = []\n",
    "        for i in samples:\n",
    "            result = self.__predict_tfidf(i) if tfidf else self._predict(i)\n",
    "            maximum = max(result.items(), key=operator.itemgetter(1))[0]\n",
    "            container.append(maximum == i[1])\n",
    "        return np.asarray(container).mean()"
   ]
  },
  {
   "cell_type": "code",
   "execution_count": 55,
   "metadata": {},
   "outputs": [],
   "source": [
    "nb = NaiveBayes()\n",
    "nb.fit(train_samples, tfidf=True)"
   ]
  },
  {
   "cell_type": "code",
   "execution_count": 56,
   "metadata": {},
   "outputs": [
    {
     "data": {
      "text/plain": [
       "26457"
      ]
     },
     "execution_count": 56,
     "metadata": {},
     "output_type": "execute_result"
    }
   ],
   "source": [
    "len(nb.unique_words)"
   ]
  },
  {
   "cell_type": "code",
   "execution_count": 57,
   "metadata": {},
   "outputs": [
    {
     "data": {
      "text/plain": [
       "0.9854586129753915"
      ]
     },
     "execution_count": 57,
     "metadata": {},
     "output_type": "execute_result"
    }
   ],
   "source": [
    "result = nb.predict(train_samples,tfidf=True)\n",
    "result"
   ]
  },
  {
   "cell_type": "code",
   "execution_count": 58,
   "metadata": {},
   "outputs": [
    {
     "data": {
      "text/plain": [
       "0.9598214285714286"
      ]
     },
     "execution_count": 58,
     "metadata": {},
     "output_type": "execute_result"
    }
   ],
   "source": [
    "result = nb.predict(test_samples,tfidf=True)\n",
    "result"
   ]
  },
  {
   "cell_type": "code",
   "execution_count": 148,
   "metadata": {},
   "outputs": [],
   "source": [
    "# Train data\n",
    "data = [[\"Chinese Beijing Chinese\",\"0\"],\n",
    "            [\"Chinese Chinese Shanghai\",\"0\"], \n",
    "            [\"Chinese Macao\",\"0\"],\n",
    "            [\"Tokyo Japan Chinese\",\"1\"]]\n",
    "\n",
    "# Fit model\n",
    "s = NaiveBayes()\n",
    "s.fit(data)"
   ]
  },
  {
   "cell_type": "code",
   "execution_count": 149,
   "metadata": {},
   "outputs": [
    {
     "name": "stdout",
     "output_type": "stream",
     "text": [
      "5\n",
      "5\n"
     ]
    },
    {
     "data": {
      "text/plain": [
       "{'0': 0.0003012137799726303, '1': 0.00013548070246744226}"
      ]
     },
     "execution_count": 149,
     "metadata": {},
     "output_type": "execute_result"
    }
   ],
   "source": [
    "# Mpdel predict\n",
    "result = s._predict([\"Chinese Chinese Chinese Tokyo Japan\"])\n",
    "result"
   ]
  },
  {
   "cell_type": "code",
   "execution_count": null,
   "metadata": {},
   "outputs": [],
   "source": [
    "# Must return[ ('Chinese Chinese Chinese Tokyo Japan', '0')]\n",
    "# pobability {'1': 0.00013548070246744226, '0': 0.00030121377997263036}\n",
    "# or log     {'1': -7.906681345001262, '0': -7.10769031284391}"
   ]
  }
 ],
 "metadata": {
  "kernelspec": {
   "display_name": "Python 3",
   "language": "python",
   "name": "python3"
  },
  "language_info": {
   "codemirror_mode": {
    "name": "ipython",
    "version": 3
   },
   "file_extension": ".py",
   "mimetype": "text/x-python",
   "name": "python",
   "nbconvert_exporter": "python",
   "pygments_lexer": "ipython3",
   "version": "3.7.2"
  }
 },
 "nbformat": 4,
 "nbformat_minor": 2
}
